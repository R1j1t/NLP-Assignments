{
 "cells": [
  {
   "cell_type": "code",
   "execution_count": 1,
   "metadata": {},
   "outputs": [],
   "source": [
    "import pandas as pd # data processing, CSV file I/O (e.g. pd.read_csv)\n",
    "from nltk.tokenize import RegexpTokenizer, sent_tokenize\n",
    "import urllib.request\n",
    "import matplotlib.pyplot as plt\n",
    "import scipy.optimize as opt\n",
    "import random\n",
    "from nltk import ngrams, FreqDist\n",
    "import nltk\n",
    "import math\n",
    "from numpy.random import multinomial\n",
    "import numpy as np"
   ]
  },
  {
   "cell_type": "code",
   "execution_count": 2,
   "metadata": {},
   "outputs": [
    {
     "name": "stdout",
     "output_type": "stream",
     "text": [
      "Book Downloaded!\n",
      "Book Downloaded!\n",
      "Book Downloaded!\n",
      "Book Downloaded!\n"
     ]
    }
   ],
   "source": [
    "text_url = r'http://www.gutenberg.org/files/11/11-0.txt'\n",
    "data =  urllib.request.urlopen(text_url).read()\n",
    "\n",
    "print ('Book Downloaded!')"
   ]
  },
  {
   "cell_type": "code",
   "execution_count": 3,
   "metadata": {},
   "outputs": [],
   "source": [
    "## Data variable encoding changed from bytes to string\n",
    "data = data.decode('utf-8')\n",
    "\n",
    "## Splitting the corpus into lines for tokenization\n",
    "data = data.split('\\r\\n')"
   ]
  },
  {
   "cell_type": "code",
   "execution_count": 4,
   "metadata": {},
   "outputs": [],
   "source": [
    "## Removing metadata\n",
    "data = data[data.index('ALICE’S ADVENTURES IN WONDERLAND'):data.index('End of Project Gutenberg’s Alice’s Adventures in Wonderland, by Lewis Carroll')]"
   ]
  },
  {
   "cell_type": "code",
   "execution_count": 5,
   "metadata": {},
   "outputs": [],
   "source": [
    "## creating the original corpus\n",
    "data = ' '.join(data)\n"
   ]
  },
  {
   "cell_type": "code",
   "execution_count": 6,
   "metadata": {},
   "outputs": [],
   "source": [
    "\n",
    "corpus = sent_tokenize(data)"
   ]
  },
  {
   "cell_type": "code",
   "execution_count": 7,
   "metadata": {},
   "outputs": [],
   "source": [
    "def lower(s):\n",
    "    return s.lower()\n",
    "data = data.strip()\n",
    "corpus = sent_tokenize(data)\n",
    "corpus = list(map(lower,corpus))\n",
    "# print (len(corpus))"
   ]
  },
  {
   "cell_type": "code",
   "execution_count": 8,
   "metadata": {},
   "outputs": [],
   "source": [
    "# word_corpus = list(map(RegexpTokenizer(str),corpus))\n",
    "tokenizer = RegexpTokenizer(r'\\w+')\n",
    "word_corpus =[]\n",
    "\n",
    "for i in corpus:\n",
    "    word_corpus.append(tokenizer.tokenize(i))\n",
    "\n",
    "for i in range(len(word_corpus)):\n",
    "    word_corpus[i].insert(0,'<s>')\n",
    "    word_corpus[i].append('</s>')\n",
    "\n",
    "\n",
    "random.shuffle(corpus)    \n",
    "#print (corpus)\n",
    "train = corpus[:int(0.8*len(corpus))]\n",
    "test = corpus[int(0.8*len(corpus)):]"
   ]
  },
  {
   "cell_type": "code",
   "execution_count": 9,
   "metadata": {},
   "outputs": [
    {
     "name": "stdout",
     "output_type": "stream",
     "text": [
      "Completed Q2!\n",
      "Completed Q2!\n",
      "Completed Q2!\n",
      "Completed Q2!\n"
     ]
    }
   ],
   "source": [
    "print('Completed Q2!')"
   ]
  },
  {
   "cell_type": "code",
   "execution_count": 10,
   "metadata": {},
   "outputs": [],
   "source": [
    "unigrams = []\n",
    "bigrams =[]\n",
    "trigrams=[]\n",
    "\n",
    "for i in word_corpus:\n",
    "    unigrams = unigrams + list(ngrams(i,1))\n",
    "    bigrams = bigrams + list(ngrams(i,2))\n",
    "    trigrams = trigrams + list(ngrams(i,3))\n"
   ]
  },
  {
   "cell_type": "code",
   "execution_count": 11,
   "metadata": {},
   "outputs": [],
   "source": [
    "uni_freq = nltk.FreqDist(unigrams)\n",
    "bi_freq = nltk.FreqDist(bigrams)\n",
    "tri_freq = nltk.FreqDist(trigrams)\n",
    "\n",
    "vocab = len(uni_freq.keys())"
   ]
  },
  {
   "cell_type": "code",
   "execution_count": 12,
   "metadata": {},
   "outputs": [],
   "source": [
    "tot_uni_count=len(unigrams)\n",
    "tot_bi_count=len(bigrams)\n",
    "tot_tri_count=len(trigrams)\n",
    "\n",
    "mle_uni ={}\n",
    "mle_bi ={}\n",
    "mle_tri ={}\n",
    "\n",
    "for i in uni_freq:\n",
    "    mle_uni[i] = uni_freq[i]/tot_uni_count\n",
    "for i in bi_freq:\n",
    "    #print(i)\n",
    "    uni = ('%s'%(i[1]),)\n",
    "    #print(uni)\n",
    "    mle_bi[i] = bi_freq[i]/uni_freq[uni]\n",
    "for i in tri_freq:\n",
    "    bi = ('%s'%(i[0]), '%s'%(i[1]))\n",
    "    #print(bi)\n",
    "    mle_tri[i] = tri_freq[i]/bi_freq[bi]\n",
    "    "
   ]
  },
  {
   "cell_type": "code",
   "execution_count": 13,
   "metadata": {},
   "outputs": [
    {
     "name": "stdout",
     "output_type": "stream",
     "text": [
      "====== Unigram MLE ======\n",
      "MLE for ('the',) unigram is = 0.056\n",
      "MLE for ('and',) unigram is = 0.030\n",
      "MLE for ('to',) unigram is = 0.025\n",
      "MLE for ('a',) unigram is = 0.022\n",
      "MLE for ('it',) unigram is = 0.020\n",
      "\n",
      "====== Bigram MLE ======\n",
      "MLE for ('said', 'the') bigram is = 0.127\n",
      "MLE for ('of', 'the') bigram is = 0.081\n",
      "MLE for ('said', 'alice') bigram is = 0.291\n",
      "MLE for ('in', 'a') bigram is = 0.153\n",
      "MLE for ('and', 'the') bigram is = 0.050\n",
      "\n",
      "====== Trigram MLE ======\n",
      "MLE for ('the', 'mock', 'turtle') triigram is = 1.000\n",
      "MLE for ('the', 'march', 'hare') triigram is = 1.000\n",
      "MLE for ('i', 'don', 't') triigram is = 1.000\n",
      "MLE for ('said', 'the', 'king') triigram is = 0.139\n",
      "MLE for ('said', 'the', 'hatter') triigram is = 0.100\n",
      "====== Unigram MLE ======\n",
      "MLE for ('the',) unigram is = 0.056\n",
      "MLE for ('and',) unigram is = 0.030\n",
      "MLE for ('to',) unigram is = 0.025\n",
      "MLE for ('a',) unigram is = 0.022\n",
      "MLE for ('it',) unigram is = 0.020\n",
      "\n",
      "====== Bigram MLE ======\n",
      "MLE for ('said', 'the') bigram is = 0.127\n",
      "MLE for ('of', 'the') bigram is = 0.081\n",
      "MLE for ('said', 'alice') bigram is = 0.291\n",
      "MLE for ('in', 'a') bigram is = 0.153\n",
      "MLE for ('and', 'the') bigram is = 0.050\n",
      "\n",
      "====== Trigram MLE ======\n",
      "MLE for ('the', 'mock', 'turtle') triigram is = 1.000\n",
      "MLE for ('the', 'march', 'hare') triigram is = 1.000\n",
      "MLE for ('i', 'don', 't') triigram is = 1.000\n",
      "MLE for ('said', 'the', 'king') triigram is = 0.139\n",
      "MLE for ('said', 'the', 'hatter') triigram is = 0.100\n",
      "====== Unigram MLE ======\n",
      "MLE for ('the',) unigram is = 0.056\n",
      "MLE for ('and',) unigram is = 0.030\n",
      "MLE for ('to',) unigram is = 0.025\n",
      "MLE for ('a',) unigram is = 0.022\n",
      "MLE for ('it',) unigram is = 0.020\n",
      "\n",
      "====== Bigram MLE ======\n",
      "MLE for ('said', 'the') bigram is = 0.127\n",
      "MLE for ('of', 'the') bigram is = 0.081\n",
      "MLE for ('said', 'alice') bigram is = 0.291\n",
      "MLE for ('in', 'a') bigram is = 0.153\n",
      "MLE for ('and', 'the') bigram is = 0.050\n",
      "\n",
      "====== Trigram MLE ======\n",
      "MLE for ('the', 'mock', 'turtle') triigram is = 1.000\n",
      "MLE for ('the', 'march', 'hare') triigram is = 1.000\n",
      "MLE for ('i', 'don', 't') triigram is = 1.000\n",
      "MLE for ('said', 'the', 'king') triigram is = 0.139\n",
      "MLE for ('said', 'the', 'hatter') triigram is = 0.100\n",
      "====== Unigram MLE ======\n",
      "MLE for ('the',) unigram is = 0.056\n",
      "MLE for ('and',) unigram is = 0.030\n",
      "MLE for ('to',) unigram is = 0.025\n",
      "MLE for ('a',) unigram is = 0.022\n",
      "MLE for ('it',) unigram is = 0.020\n",
      "\n",
      "====== Bigram MLE ======\n",
      "MLE for ('said', 'the') bigram is = 0.127\n",
      "MLE for ('of', 'the') bigram is = 0.081\n",
      "MLE for ('said', 'alice') bigram is = 0.291\n",
      "MLE for ('in', 'a') bigram is = 0.153\n",
      "MLE for ('and', 'the') bigram is = 0.050\n",
      "\n",
      "====== Trigram MLE ======\n",
      "MLE for ('the', 'mock', 'turtle') triigram is = 1.000\n",
      "MLE for ('the', 'march', 'hare') triigram is = 1.000\n",
      "MLE for ('i', 'don', 't') triigram is = 1.000\n",
      "MLE for ('said', 'the', 'king') triigram is = 0.139\n",
      "MLE for ('said', 'the', 'hatter') triigram is = 0.100\n"
     ]
    }
   ],
   "source": [
    "print('====== Unigram MLE ======')\n",
    "test_unigrams=[('the',), ('and',), ('to',), ('a',), ('it',)]\n",
    "for i in test_unigrams:\n",
    "    print('MLE for %s unigram is = %.3f'%(i,mle_uni[i]))\n",
    "\n",
    "print('\\n====== Bigram MLE ======')\n",
    "test_bigrams = [('said', 'the'), ('of', 'the'), ('said', 'alice'), ('in', 'a'), ('and', 'the')]\n",
    "for i in test_bigrams:\n",
    "    print('MLE for %s bigram is = %.3f'%(i,mle_bi[i]))\n",
    "\n",
    "print('\\n====== Trigram MLE ======')\n",
    "test_tri = [('the', 'mock', 'turtle'), ('the', 'march', 'hare'), ('i', 'don', 't'), ('said', 'the', 'king'), ('said', 'the', 'hatter')]\n",
    "for i in test_tri:\n",
    "    print('MLE for %s triigram is = %.3f'%(i,mle_tri[i]))\n",
    "\n"
   ]
  },
  {
   "cell_type": "code",
   "execution_count": 14,
   "metadata": {},
   "outputs": [
    {
     "name": "stdout",
     "output_type": "stream",
     "text": [
      "Question 3 done!!\n",
      "Question 3 done!!\n",
      "Question 3 done!!\n",
      "Question 3 done!!\n"
     ]
    }
   ],
   "source": [
    "print('Question 3 done!!')"
   ]
  },
  {
   "cell_type": "code",
   "execution_count": 15,
   "metadata": {},
   "outputs": [
    {
     "name": "stdout",
     "output_type": "stream",
     "text": [
      "<s> pocket pocket pocket hole time pocket pocket pocket pocket pocket pocket pocket either pocket hole\n",
      "<s> i could see anything near her lap of your places\n",
      "<s> pocket pocket pocket hole time pocket pocket pocket pocket pocket pocket pocket either pocket hole\n",
      "<s> i could see anything near her lap of your places\n",
      "<s> pocket pocket pocket hole time pocket pocket pocket pocket pocket pocket pocket either pocket hole\n",
      "<s> i could see anything near her lap of your places\n",
      "<s> pocket pocket pocket hole time pocket pocket pocket pocket pocket pocket pocket either pocket hole\n",
      "<s> i could see anything near her lap of your places\n",
      "<s> there was no one listening this time with one eye\n",
      "<s> there was no one listening this time with one eye\n",
      "<s> there was no one listening this time with one eye\n",
      "<s> there was no one listening this time with one eye\n"
     ]
    }
   ],
   "source": [
    "## Q4-a\n",
    "\n",
    "def Generator(model_name):\n",
    "    if model_name not in [1,2,3]:\n",
    "        print ('Please select \"1\" or \"2\" or \"3\" for the second argument')\n",
    "        return ('Retry')\n",
    "    sent = ['<s>']\n",
    "    if model_name==1:\n",
    "        for i in range(15):\n",
    "            lst = list(multinomial(100,list(mle_uni.values())))\n",
    "            sent = sent + list(unigrams[lst.index(np.max(lst))])\n",
    "            if unigrams[lst.index(np.max(lst))][0] == '</s>':\n",
    "                break\n",
    "\n",
    "    elif model_name==2: \n",
    "        for i in range(10):\n",
    "            lst2={}\n",
    "            lst22=[]\n",
    "            for j in bigrams:\n",
    "                if sent[-1] == j[0]:\n",
    "                    lst2[j]= mle_bi[j]\n",
    "                    lst22.append(j)\n",
    "            \n",
    "            lst = multinomial(100,[x / sum(list(lst2.values())) for x in list(lst2.values())])\n",
    "            adding = lst22[np.where(lst == np.max(lst))[0][0]]\n",
    "            sent = sent + list([adding[1]])\n",
    "            if adding[1] == '</s>':\n",
    "                    break\n",
    "\n",
    "    elif model_name==3:\n",
    "        \n",
    "        for i in range(10):\n",
    "            lst2={}\n",
    "            lst22=[]\n",
    "            if i == 0:\n",
    "                for j in bigrams:\n",
    "                    if sent[-1] == j[0]:\n",
    "                        lst2[j]= mle_bi[j]\n",
    "                        lst22.append(j)\n",
    "\n",
    "                lst = multinomial(100,[x / sum(list(lst2.values())) for x in list(lst2.values())])\n",
    "                adding = lst22[np.where(lst == np.max(lst))[0][0]]\n",
    "                sent = sent + list([adding[1]])\n",
    "            else:\n",
    "                for j in trigrams:\n",
    "                    #print(j[:2])\n",
    "                    if (sent[-2] == j[0]) and (sent[-1] == j[1]):\n",
    "                        \n",
    "                        lst2[j] = mle_tri[j]\n",
    "                        lst22.append(j)\n",
    "                lst = multinomial(100,[x / sum(list(lst2.values())) for x in list(lst2.values())])\n",
    "                adding= lst22[np.where(lst ==np.max(lst))[0][0]]\n",
    "                sent = sent + list([adding[2]])\n",
    "            if sent[-1] == '</s>':\n",
    "                    break\n",
    "\n",
    "    return(' '.join(sent))\n",
    "\n",
    "print (Generator(1))\n",
    "print(Generator(2))\n",
    "print(Generator(3))"
   ]
  },
  {
   "cell_type": "code",
   "execution_count": 16,
   "metadata": {},
   "outputs": [
    {
     "name": "stdout",
     "output_type": "stream",
     "text": [
      "\n",
      "Following sentence \n",
      "==> ‘if i don’t take this child away with me,’ thought alice, ‘they’re sure to kill it in a day or two: wouldn’t it be murder to leave it behind?’ she said the last words out loud, and the little thing grunted in reply (it had left off sneezing by this time). \n",
      "==> Probability is -317.786 in 1-gram model\n",
      "Following sentence \n",
      "==> ‘if i don’t take this child away with me,’ thought alice, ‘they’re sure to kill it in a day or two: wouldn’t it be murder to leave it behind?’ she said the last words out loud, and the little thing grunted in reply (it had left off sneezing by this time). \n",
      "==> Probability is -317.786 in 1-gram model\n",
      "Following sentence \n",
      "==> ‘if i don’t take this child away with me,’ thought alice, ‘they’re sure to kill it in a day or two: wouldn’t it be murder to leave it behind?’ she said the last words out loud, and the little thing grunted in reply (it had left off sneezing by this time). \n",
      "==> Probability is -317.786 in 1-gram model\n",
      "Following sentence \n",
      "==> ‘if i don’t take this child away with me,’ thought alice, ‘they’re sure to kill it in a day or two: wouldn’t it be murder to leave it behind?’ she said the last words out loud, and the little thing grunted in reply (it had left off sneezing by this time). \n",
      "==> Probability is -317.786 in 1-gram model\n",
      "\n",
      "Following sentence \n",
      "==> ‘fourteenth of march, i think it was,’ he said. \n",
      "==> Probability is -32.094 in 2-gram model\n",
      "\n",
      "Following sentence \n",
      "==> ‘not at all,’ said alice: ‘she’s so extremely--’ just then she noticed that the queen was close behind her, listening: so she went on, ‘--likely to win, that it’s hardly worth while finishing the game.’  the queen smiled and passed on. \n",
      "==> Probability is -121.981 in 2-gram model\n",
      "\n",
      "Following sentence \n",
      "==> alice was very nearly getting up and saying, ‘thank you, sir, for your interesting story,’ but she could not help thinking there must be more to come, so she sat still and said nothing. \n",
      "==> Probability is -98.026 in 2-gram model\n",
      "\n",
      "Following sentence \n",
      "==> let me see: four times five is twelve, and four times six is thirteen, and four times seven is--oh dear! \n",
      "==> Probability is -152.149 in 1-gram model\n",
      "\n",
      "Following sentence \n",
      "==> you’re mad.’  ‘how do you know i’m mad?’ said alice. \n",
      "==> Probability is -12.572 in 3-gram model\n",
      "\n",
      "Following sentence \n",
      "==> here the other guinea-pig cheered, and was suppressed. \n",
      "==> Probability is -58.218 in 1-gram model\n",
      "\n",
      "Following sentence \n",
      "==> alice’s adventures in wonderland  lewis carroll  the millennium fulcrum edition 3.0     chapter i. \n",
      "==> Probability is -27.267 in 2-gram model\n",
      "\n",
      "Following sentence \n",
      "==> ‘thinking again?’ the duchess asked, with another dig of her sharp little chin. \n",
      "==> Probability is -84.281 in 1-gram model\n",
      "\n",
      "Following sentence \n",
      "==> alice caught the baby with some difficulty, as it was a queer-shaped little creature, and held out its arms and legs in all directions, ‘just like a star-fish,’ thought alice. \n",
      "==> Probability is -21.010 in 3-gram model\n",
      "\n",
      "\n",
      "Following sentence \n",
      "==> ‘fourteenth of march, i think it was,’ he said. \n",
      "==> Probability is -32.094 in 2-gram model\n",
      "\n",
      "Following sentence \n",
      "==> ‘not at all,’ said alice: ‘she’s so extremely--’ just then she noticed that the queen was close behind her, listening: so she went on, ‘--likely to win, that it’s hardly worth while finishing the game.’  the queen smiled and passed on. \n",
      "==> Probability is -121.981 in 2-gram model\n",
      "\n",
      "Following sentence \n",
      "==> alice was very nearly getting up and saying, ‘thank you, sir, for your interesting story,’ but she could not help thinking there must be more to come, so she sat still and said nothing. \n",
      "==> Probability is -98.026 in 2-gram model\n",
      "\n",
      "Following sentence \n",
      "==> let me see: four times five is twelve, and four times six is thirteen, and four times seven is--oh dear! \n",
      "==> Probability is -152.149 in 1-gram model\n",
      "\n",
      "Following sentence \n",
      "==> you’re mad.’  ‘how do you know i’m mad?’ said alice. \n",
      "==> Probability is -12.572 in 3-gram model\n",
      "\n",
      "Following sentence \n",
      "==> here the other guinea-pig cheered, and was suppressed. \n",
      "==> Probability is -58.218 in 1-gram model\n",
      "\n",
      "Following sentence \n",
      "==> alice’s adventures in wonderland  lewis carroll  the millennium fulcrum edition 3.0     chapter i. \n",
      "==> Probability is -27.267 in 2-gram model\n",
      "\n",
      "Following sentence \n",
      "==> ‘thinking again?’ the duchess asked, with another dig of her sharp little chin. \n",
      "==> Probability is -84.281 in 1-gram model\n",
      "\n",
      "Following sentence \n",
      "==> alice caught the baby with some difficulty, as it was a queer-shaped little creature, and held out its arms and legs in all directions, ‘just like a star-fish,’ thought alice. \n",
      "==> Probability is -21.010 in 3-gram model\n",
      "\n",
      "\n",
      "Following sentence \n",
      "==> ‘fourteenth of march, i think it was,’ he said. \n",
      "==> Probability is -32.094 in 2-gram model\n",
      "\n",
      "Following sentence \n",
      "==> ‘not at all,’ said alice: ‘she’s so extremely--’ just then she noticed that the queen was close behind her, listening: so she went on, ‘--likely to win, that it’s hardly worth while finishing the game.’  the queen smiled and passed on. \n",
      "==> Probability is -121.981 in 2-gram model\n",
      "\n",
      "Following sentence \n",
      "==> alice was very nearly getting up and saying, ‘thank you, sir, for your interesting story,’ but she could not help thinking there must be more to come, so she sat still and said nothing. \n",
      "==> Probability is -98.026 in 2-gram model\n",
      "\n",
      "Following sentence \n",
      "==> let me see: four times five is twelve, and four times six is thirteen, and four times seven is--oh dear! \n",
      "==> Probability is -152.149 in 1-gram model\n",
      "\n",
      "Following sentence \n",
      "==> you’re mad.’  ‘how do you know i’m mad?’ said alice. \n",
      "==> Probability is -12.572 in 3-gram model\n",
      "\n",
      "Following sentence \n",
      "==> here the other guinea-pig cheered, and was suppressed. \n",
      "==> Probability is -58.218 in 1-gram model\n",
      "\n",
      "Following sentence \n",
      "==> alice’s adventures in wonderland  lewis carroll  the millennium fulcrum edition 3.0     chapter i. \n",
      "==> Probability is -27.267 in 2-gram model\n",
      "\n",
      "Following sentence \n",
      "==> ‘thinking again?’ the duchess asked, with another dig of her sharp little chin. \n",
      "==> Probability is -84.281 in 1-gram model\n",
      "\n",
      "Following sentence \n",
      "==> alice caught the baby with some difficulty, as it was a queer-shaped little creature, and held out its arms and legs in all directions, ‘just like a star-fish,’ thought alice. \n",
      "==> Probability is -21.010 in 3-gram model\n",
      "\n",
      "\n",
      "Following sentence \n",
      "==> ‘fourteenth of march, i think it was,’ he said. \n",
      "==> Probability is -32.094 in 2-gram model\n",
      "\n",
      "Following sentence \n",
      "==> ‘not at all,’ said alice: ‘she’s so extremely--’ just then she noticed that the queen was close behind her, listening: so she went on, ‘--likely to win, that it’s hardly worth while finishing the game.’  the queen smiled and passed on. \n",
      "==> Probability is -121.981 in 2-gram model\n",
      "\n",
      "Following sentence \n",
      "==> alice was very nearly getting up and saying, ‘thank you, sir, for your interesting story,’ but she could not help thinking there must be more to come, so she sat still and said nothing. \n",
      "==> Probability is -98.026 in 2-gram model\n",
      "\n",
      "Following sentence \n",
      "==> let me see: four times five is twelve, and four times six is thirteen, and four times seven is--oh dear! \n",
      "==> Probability is -152.149 in 1-gram model\n",
      "\n",
      "Following sentence \n",
      "==> you’re mad.’  ‘how do you know i’m mad?’ said alice. \n",
      "==> Probability is -12.572 in 3-gram model\n",
      "\n",
      "Following sentence \n",
      "==> here the other guinea-pig cheered, and was suppressed. \n",
      "==> Probability is -58.218 in 1-gram model\n",
      "\n",
      "Following sentence \n",
      "==> alice’s adventures in wonderland  lewis carroll  the millennium fulcrum edition 3.0     chapter i. \n",
      "==> Probability is -27.267 in 2-gram model\n",
      "\n",
      "Following sentence \n",
      "==> ‘thinking again?’ the duchess asked, with another dig of her sharp little chin. \n",
      "==> Probability is -84.281 in 1-gram model\n",
      "\n",
      "Following sentence \n",
      "==> alice caught the baby with some difficulty, as it was a queer-shaped little creature, and held out its arms and legs in all directions, ‘just like a star-fish,’ thought alice. \n",
      "==> Probability is -21.010 in 3-gram model\n"
     ]
    }
   ],
   "source": [
    "## Q4-b\n",
    "def Probablity(sentence,model_name):\n",
    "    if model_name not in [1,2,3]:\n",
    "        print ('Please select \"1\" or \"2\" or \"3\" for the second argument')\n",
    "        return ('Retry')\n",
    "    word_tokens = tokenizer.tokenize(sentence)\n",
    "    grams = list(ngrams(word_tokens,model_name))\n",
    "    prob = 1\n",
    "    if model_name==1:    \n",
    "        for i in grams:\n",
    "            prob = prob*mle_uni[i]\n",
    "    elif model_name==2:    \n",
    "        for i in grams:\n",
    "            prob = prob*mle_bi[i]\n",
    "\n",
    "    elif model_name==3:    \n",
    "        for i in grams:\n",
    "            prob = prob*mle_tri[i]\n",
    "\n",
    "    return(math.log(prob))\n",
    "\n",
    "for i in test[:10]:\n",
    "    model_name = random.randint(1,3)\n",
    "    prob =Probablity(i,model_name)\n",
    "    print ('\\nFollowing sentence \\n==> %s \\n==> Probability is %.3f in %i-gram model'%(i,prob,model_name))"
   ]
  },
  {
   "cell_type": "code",
   "execution_count": 17,
   "metadata": {},
   "outputs": [
    {
     "name": "stdout",
     "output_type": "stream",
     "text": [
      "Question 4 Done!!\n",
      "Question 4 Done!!\n",
      "Question 4 Done!!\n",
      "Question 4 Done!!\n"
     ]
    }
   ],
   "source": [
    "print ('Question 4 Done!!')"
   ]
  },
  {
   "cell_type": "code",
   "execution_count": 18,
   "metadata": {},
   "outputs": [],
   "source": [
    "## add-1 smooting\n",
    "add_smooth={}\n",
    "for i in bi_freq:\n",
    "    #print(i)\n",
    "    uni = ('%s'%(i[1]),)\n",
    "    #print(uni)\n",
    "    add_smooth[i] = (bi_freq[i]+1)/(uni_freq[uni]+vocab)\n",
    "\n"
   ]
  },
  {
   "cell_type": "code",
   "execution_count": 19,
   "metadata": {},
   "outputs": [
    {
     "name": "stdout",
     "output_type": "stream",
     "text": [
      "For ('said', 'the') bigrams:\n",
      "MLE Prob       = 0.1271\n",
      "add-1 smooting = 0.0498\n",
      "For ('of', 'the') bigrams:\n",
      "MLE Prob       = 0.0809\n",
      "add-1 smooting = 0.0317\n",
      "For ('<s>', 'i') bigrams:\n",
      "MLE Prob       = 0.2155\n",
      "add-1 smooting = 0.0378\n",
      "For ('said', 'alice') bigrams:\n",
      "MLE Prob       = 0.2915\n",
      "add-1 smooting = 0.0393\n",
      "\n",
      "===== Explanation for this drastic change =====\n",
      "This drastic change occurs becuase add-1 smoothing add probabilty mass of 1/vocab to bigrams with zero count\n",
      "For ('said', 'the') bigrams:\n",
      "MLE Prob       = 0.1271\n",
      "add-1 smooting = 0.0498\n",
      "For ('of', 'the') bigrams:\n",
      "MLE Prob       = 0.0809\n",
      "add-1 smooting = 0.0317\n",
      "For ('<s>', 'i') bigrams:\n",
      "MLE Prob       = 0.2155\n",
      "add-1 smooting = 0.0378\n",
      "For ('said', 'alice') bigrams:\n",
      "MLE Prob       = 0.2915\n",
      "add-1 smooting = 0.0393\n",
      "\n",
      "===== Explanation for this drastic change =====\n",
      "This drastic change occurs becuase add-1 smoothing add probabilty mass of 1/vocab to bigrams with zero count\n",
      "For ('said', 'the') bigrams:\n",
      "MLE Prob       = 0.1271\n",
      "add-1 smooting = 0.0498\n",
      "For ('of', 'the') bigrams:\n",
      "MLE Prob       = 0.0809\n",
      "add-1 smooting = 0.0317\n",
      "For ('<s>', 'i') bigrams:\n",
      "MLE Prob       = 0.2155\n",
      "add-1 smooting = 0.0378\n",
      "For ('said', 'alice') bigrams:\n",
      "MLE Prob       = 0.2915\n",
      "add-1 smooting = 0.0393\n",
      "\n",
      "===== Explanation for this drastic change =====\n",
      "This drastic change occurs becuase add-1 smoothing add probabilty mass of 1/vocab to bigrams with zero count\n",
      "For ('said', 'the') bigrams:\n",
      "MLE Prob       = 0.1271\n",
      "add-1 smooting = 0.0498\n",
      "For ('of', 'the') bigrams:\n",
      "MLE Prob       = 0.0809\n",
      "add-1 smooting = 0.0317\n",
      "For ('<s>', 'i') bigrams:\n",
      "MLE Prob       = 0.2155\n",
      "add-1 smooting = 0.0378\n",
      "For ('said', 'alice') bigrams:\n",
      "MLE Prob       = 0.2915\n",
      "add-1 smooting = 0.0393\n",
      "\n",
      "===== Explanation for this drastic change =====\n",
      "This drastic change occurs becuase add-1 smoothing add probabilty mass of 1/vocab to bigrams with zero count\n"
     ]
    }
   ],
   "source": [
    "test_set = [('said', 'the'), ('of', 'the'), ('<s>', 'i'), ('said', 'alice')]\n",
    "\n",
    "for i in test_set:\n",
    "    print('For %s bigrams:\\nMLE Prob       = %.4f\\nadd-1 smooting = %.4f'%(i,mle_bi[i],add_smooth[i]))\n",
    "print('\\n===== Explanation for this drastic change =====')\n",
    "print('This drastic change occurs becuase add-1 smoothing add probabilty mass of 1/vocab to bigrams with zero count')"
   ]
  },
  {
   "cell_type": "code",
   "execution_count": 20,
   "metadata": {},
   "outputs": [
    {
     "name": "stdout",
     "output_type": "stream",
     "text": [
      "Question 5 done!!\n",
      "Question 5 done!!\n",
      "Question 5 done!!\n",
      "Question 5 done!!\n"
     ]
    }
   ],
   "source": [
    "print('Question 5 done!!')"
   ]
  },
  {
   "cell_type": "code",
   "execution_count": 21,
   "metadata": {},
   "outputs": [],
   "source": [
    "lst2 = []\n",
    "for i in bigrams: \n",
    "    if '<s>' in i:\n",
    "        lst2.append(i)\n",
    "        "
   ]
  },
  {
   "cell_type": "code",
   "execution_count": 22,
   "metadata": {},
   "outputs": [],
   "source": [
    "turing={}\n",
    "\n",
    "for i in bigrams:\n",
    "    if bi_freq[i] not in turing:\n",
    "        turing[bi_freq[i]] =0\n",
    "    turing[bi_freq[i]] +=1"
   ]
  },
  {
   "cell_type": "code",
   "execution_count": 23,
   "metadata": {},
   "outputs": [
    {
     "name": "stdout",
     "output_type": "stream",
     "text": [
      "Turing smooting for c=0 is 0.3792\n",
      "d value (averaged) for turing smoothing is = 0.266\n",
      "Turing smooting for c=0 is 0.3792\n",
      "d value (averaged) for turing smoothing is = 0.266\n",
      "Turing smooting for c=0 is 0.3792\n",
      "d value (averaged) for turing smoothing is = 0.266\n",
      "Turing smooting for c=0 is 0.3792\n",
      "d value (averaged) for turing smoothing is = 0.266\n"
     ]
    },
    {
     "data": {
      "image/png": "[encoded data removed]",
      "text/plain": [
       "<matplotlib.figure.Figure at 0x11b52cbe0>"
      ]
     },
     "metadata": {},
     "output_type": "display_data"
    },
    {
     "data": {
      "image/png": "[encoded data removed]",
      "text/plain": [
       "<matplotlib.figure.Figure at 0x11b52cbe0>"
      ]
     },
     "metadata": {},
     "output_type": "display_data"
    },
    {
     "data": {
      "image/png": "[encoded data removed]",
      "text/plain": [
       "<matplotlib.figure.Figure at 0x11b52cbe0>"
      ]
     },
     "metadata": {},
     "output_type": "display_data"
    },
    {
     "data": {
      "image/png": "[encoded data removed]",
      "text/plain": [
       "<matplotlib.figure.Figure at 0x11b52cbe0>"
      ]
     },
     "metadata": {},
     "output_type": "display_data"
    }
   ],
   "source": [
    "## Turing count for bigrams with upto 31 Nc\n",
    "\n",
    "turing_count = {}\n",
    "for i in bigrams:\n",
    "    nc = bi_freq[i]\n",
    "    if bi_freq[i] in range(2,31):\n",
    "        turing_count[i] = (nc+1)*turing[nc+1]\n",
    "        turing_count[i] =  turing_count[i]/turing[nc]\n",
    "\n",
    "diff=[]\n",
    "for i in turing_count:\n",
    "    diff.append(turing_count[i]-bi_freq[i])\n",
    "\n",
    "print ('Turing smooting for c=0 is %.4f'%(turing[1]/len(bigrams)))\n",
    "print('d value (averaged) for turing smoothing is = %.3f'%(-1*sum(diff)/len(diff)))\n",
    "\n",
    "plt.plot(range(len(diff)),diff)\n",
    "plt.ylim(-2,2)\n",
    "plt.show()"
   ]
  },
  {
   "cell_type": "code",
   "execution_count": 24,
   "metadata": {},
   "outputs": [
    {
     "name": "stdout",
     "output_type": "stream",
     "text": [
      "Question 6 done!!\n",
      "Question 6 done!!\n",
      "Question 6 done!!\n",
      "Question 6 done!!\n"
     ]
    }
   ],
   "source": [
    "print('Question 6 done!!')"
   ]
  },
  {
   "cell_type": "code",
   "execution_count": 25,
   "metadata": {},
   "outputs": [],
   "source": [
    "## Q7\n",
    "### Doing for bigram models\n",
    "\n",
    "mle_add1 ={}\n",
    "mle_turing ={}\n",
    "def mle_add1_0(i):\n",
    "    uni = ('%s'%(i[1]),)\n",
    "    return 1/(uni_freq[uni]+vocab)\n",
    "\n",
    "def mle_turing_0 (i):\n",
    "    return (turing[1]/len(bigrams))\n",
    "    \n",
    "for i in turing_count:\n",
    "    #print(i)\n",
    "    uni = ('%s'%(i[1]),)\n",
    "    #print(uni)\n",
    "    mle_add1[i] = add_smooth[i]/uni_freq[uni]\n",
    "    \n",
    "\n",
    "for i in turing_count:\n",
    "    #print(i)\n",
    "    uni = ('%s'%(i[1]),)\n",
    "    #print(uni)\n",
    "    mle_turing[i] = turing_count[i]/uni_freq[uni]\n",
    "    "
   ]
  },
  {
   "cell_type": "code",
   "execution_count": 26,
   "metadata": {},
   "outputs": [
    {
     "data": {
      "text/plain": [
       "0.00038804811796662784"
      ]
     },
     "execution_count": 26,
     "metadata": {},
     "output_type": "execute_result"
    },
    {
     "data": {
      "text/plain": [
       "0.00038804811796662784"
      ]
     },
     "execution_count": 26,
     "metadata": {},
     "output_type": "execute_result"
    },
    {
     "data": {
      "text/plain": [
       "0.00038804811796662784"
      ]
     },
     "execution_count": 26,
     "metadata": {},
     "output_type": "execute_result"
    },
    {
     "data": {
      "text/plain": [
       "0.00038804811796662784"
      ]
     },
     "execution_count": 26,
     "metadata": {},
     "output_type": "execute_result"
    }
   ],
   "source": [
    "1/vocab"
   ]
  },
  {
   "cell_type": "code",
   "execution_count": 27,
   "metadata": {},
   "outputs": [],
   "source": [
    "## Calculating MLE after smoothing\n",
    "def Probablity_add(sentence,N,model_name=2):\n",
    "    word_tokens = tokenizer.tokenize(' '.join(sentence))\n",
    "    grams = list(ngrams(word_tokens,2))\n",
    "    prob = 1\n",
    "    for i in grams:\n",
    "        if i in mle_add1:\n",
    "            prob = prob*((1/mle_add1[i])**(1/N))\n",
    "        else:\n",
    "            prob = prob*((1/0.03880)**(1/N))\n",
    "    return (prob)\n",
    "\n",
    "\n",
    "def Probablity_turing(sentence,N,model_name=2):\n",
    "    word_tokens = tokenizer.tokenize(' '.join(sentence))\n",
    "    grams = list(ngrams(word_tokens,2))\n",
    "    prob = 1\n",
    "    for i in grams:\n",
    "        if i in mle_turing:\n",
    "            prob = prob*((1/mle_turing[i])**(1/N))\n",
    "        else:\n",
    "            prob = prob*((1/0.379)**(1/N))\n",
    "    return (prob)"
   ]
  },
  {
   "cell_type": "code",
   "execution_count": 28,
   "metadata": {},
   "outputs": [
    {
     "name": "stdout",
     "output_type": "stream",
     "text": [
      "Perplexity value for add-1 smoothing for the entire test dataset is 0.97\n",
      "Perplexity value for Good Turing smoothing for the test dataset is 268001498592253344.00\n",
      "Perplexity value for add-1 smoothing for the entire test dataset is 0.97\n",
      "Perplexity value for Good Turing smoothing for the test dataset is 268001498592253344.00\n",
      "Perplexity value for add-1 smoothing for the entire test dataset is 0.97\n",
      "Perplexity value for Good Turing smoothing for the test dataset is 268001498592253344.00\n",
      "Perplexity value for add-1 smoothing for the entire test dataset is 0.97\n",
      "Perplexity value for Good Turing smoothing for the test dataset is 268001498592253344.00\n"
     ]
    }
   ],
   "source": [
    "perplx_add=1.0\n",
    "perplx_turing =1.0\n",
    "\n",
    "word_tokens = tokenizer.tokenize(\" \".join(test)) \n",
    "grams = list(ngrams(word_tokens,1))\n",
    "N= len(grams)\n",
    "\n",
    "for i in test[:20]:\n",
    "    perplx_add = perplx_add*Probablity_add(test,N)\n",
    "    perplx_turing = perplx_turing*Probablity_turing(test,N)\n",
    "\n",
    "\n",
    "print ('Perplexity value for add-1 smoothing for the entire test dataset is %.2f'%(perplx_add**(-1/N)))\n",
    "print ('Perplexity value for Good Turing smoothing for the test dataset is %.2f'%(perplx_turing))\n",
    "    \n",
    "    \n",
    "\n"
   ]
  },
  {
   "cell_type": "code",
   "execution_count": 29,
   "metadata": {},
   "outputs": [
    {
     "name": "stdout",
     "output_type": "stream",
     "text": [
      "Question 7 done!!\n",
      "Question 7 done!!\n",
      "Question 7 done!!\n",
      "Question 7 done!!\n"
     ]
    }
   ],
   "source": [
    "print('Question 7 done!!')"
   ]
  },
  {
   "cell_type": "markdown",
   "metadata": {},
   "source": [
    "# References\n",
    "1. Data downloading: https://stackoverflow.com/a/7244263\n",
    "2. Curve fitting in scipy: https://docs.scipy.org/doc/scipy-0.19.0/reference/generated/scipy.optimize.curve_fit.html\n",
    "3. Zipf's plot for meaning discussed with Arik Pamnani\n",
    "4. https://stackoverflow.com/a/36798898/7630458 for freq distribution of n grams\n",
    "5. https://stackoverflow.com/a/15555162/7630458 For regex tokenizer\n",
    "6. https://courses.engr.illinois.edu/cs447/fa2017/Slides/Lecture04.pdf for add-1 smoothing"
   ]
  },
  {
   "cell_type": "code",
   "execution_count": null,
   "metadata": {},
   "outputs": [],
   "source": []
  }
 ],
 "metadata": {
  "kernelspec": {
   "display_name": "Python 3",
   "language": "python",
   "name": "python3"
  },
  "language_info": {
   "codemirror_mode": {
    "name": "ipython",
    "version": 3
   },
   "file_extension": ".py",
   "mimetype": "text/x-python",
   "name": "python",
   "nbconvert_exporter": "python",
   "pygments_lexer": "ipython3",
   "version": "3.5.4"
  }
 },
 "nbformat": 4,
 "nbformat_minor": 2
}
