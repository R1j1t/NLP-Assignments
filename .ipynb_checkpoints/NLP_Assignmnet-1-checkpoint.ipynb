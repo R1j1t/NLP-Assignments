{
 "cells": [
  {
   "cell_type": "code",
   "execution_count": 1,
   "metadata": {},
   "outputs": [],
   "source": [
    "import numpy as np # linear algebra\n",
    "import pandas as pd # data processing, CSV file I/O (e.g. pd.read_csv)\n",
    "from nltk.tokenize import word_tokenize\n",
    "import urllib.request\n",
    "import matplotlib.pyplot as plt\n",
    "import scipy.optimize as opt"
   ]
  },
  {
   "cell_type": "code",
   "execution_count": 2,
   "metadata": {},
   "outputs": [],
   "source": [
    "text_url = r'http://www.gutenberg.org/files/74/74-0.txt'\n",
    "data =  urllib.request.urlopen(text_url).read()\n",
    "\n",
    "## Dictonary to store the word count\n",
    "word_dict = {}"
   ]
  },
  {
   "cell_type": "code",
   "execution_count": 3,
   "metadata": {},
   "outputs": [],
   "source": [
    "## Data variable encoding changed from bytes to string\n",
    "data = data.decode('utf-8')\n",
    "\n",
    "## Splitting the corpus into lines for tokenization\n",
    "data = data.split('\\r\\n')"
   ]
  },
  {
   "cell_type": "code",
   "execution_count": 4,
   "metadata": {},
   "outputs": [],
   "source": [
    "## There was some redundant text and hence the below operation is used \n",
    "## to remove the meta data of the corpus\n",
    "data = data[data.index('THE ADVENTURES OF TOM SAWYER'):data.index('*** END OF THIS PROJECT GUTENBERG EBOOK TOM SAWYER ***')]"
   ]
  },
  {
   "cell_type": "code",
   "execution_count": 5,
   "metadata": {},
   "outputs": [],
   "source": [
    "token_size=[]\n",
    "vocabulary =[]\n",
    "tokens = 0\n",
    "## Types will act as keys of the dictionary\n",
    "for i,conter in zip(data,range(len(data))):\n",
    "    if len(i) <1:\n",
    "        pass\n",
    "    else:\n",
    "        sentence = word_tokenize(i)\n",
    "        for j in sentence:\n",
    "            if j in word_dict:\n",
    "                word_dict[j] +=1\n",
    "            else:\n",
    "                word_dict[j] =1\n",
    "        tokens += len(sentence)\n",
    "        vocabulary.append(len(word_dict.keys()))\n",
    "        token_size.append(tokens)\n",
    "        \n",
    "\n",
    "        "
   ]
  },
  {
   "cell_type": "code",
   "execution_count": 6,
   "metadata": {},
   "outputs": [],
   "source": [
    "## Below operation will give the total tokens\n",
    "sum =0\n",
    "for i in word_dict:\n",
    "    sum += word_dict[i]"
   ]
  },
  {
   "cell_type": "code",
   "execution_count": 7,
   "metadata": {},
   "outputs": [
    {
     "name": "stdout",
     "output_type": "stream",
     "text": [
      "-----------------------------\n",
      "| Types |  Tokens  |  TTR   |\n",
      "|  8421 |   88673  | 0.0950 |\n",
      "-----------------------------\n"
     ]
    }
   ],
   "source": [
    "print('-----------------------------')\n",
    "print('| Types |  Tokens  |  TTR   |') \n",
    "print('|  {0} |   {1}  | {2:0.4f} |'.format(len(word_dict),sum,len(word_dict)/sum))\n",
    "print('-----------------------------')\n"
   ]
  },
  {
   "cell_type": "code",
   "execution_count": 8,
   "metadata": {},
   "outputs": [
    {
     "data": {
      "image/png": "[encoded data removed]",
      "text/plain": [
       "<matplotlib.figure.Figure at 0x11b7566d8>"
      ]
     },
     "metadata": {},
     "output_type": "display_data"
    },
    {
     "name": "stdout",
     "output_type": "stream",
     "text": [
      "The Outliers are generally the most frequtely occuring word\n",
      "Examles of them are\n",
      "Word: , -- Freq: 4938\n",
      "Word: and -- Freq: 2966\n",
      "Word: the -- Freq: 3361\n",
      "Word: you -- Freq: 780\n",
      "Word: was -- Freq: 1174\n",
      "Word: to -- Freq: 1718\n",
      "Word: in -- Freq: 914\n",
      "Word: it -- Freq: 1129\n",
      "Word: he -- Freq: 924\n",
      "Word: with -- Freq: 644\n",
      "Word: 's -- Freq: 861\n",
      "Word: . -- Freq: 3802\n",
      "Word: Tom -- Freq: 805\n",
      "Word: -- -- Freq: 929\n",
      "Word: had -- Freq: 527\n",
      "Word: ” -- Freq: 1527\n",
      "Word: they -- Freq: 460\n",
      "Word: “ -- Freq: 1534\n",
      "Word: a -- Freq: 1751\n",
      "Word: for -- Freq: 522\n",
      "Word: n't -- Freq: 649\n",
      "Word: of -- Freq: 1455\n",
      "Word: that -- Freq: 960\n",
      "Word: his -- Freq: 777\n"
     ]
    }
   ],
   "source": [
    "## To print the outliers\n",
    "prod = []\n",
    "outliers = []\n",
    "for i in word_dict:\n",
    "    if word_dict[i] ==1:\n",
    "        pass\n",
    "    prod.append(word_dict[i]*len(i))\n",
    "    if word_dict[i]*len(i) > 1500:\n",
    "        outliers.append(i)\n",
    "\n",
    "\n",
    "## Plot for Zipf's law for Length.\n",
    "## It should be a perfect straight line for zipfs law for length vs freq to be valid\n",
    "plt.scatter(prod,range(len(prod)))\n",
    "plt.title(\"Zipf's Law for length\")\n",
    "plt.xlabel('Product of freq and word length')\n",
    "plt.ylabel('Vocabulary')\n",
    "plt.show()\n",
    "\n",
    "print('The Outliers are generally the most frequtely occuring word')\n",
    "print('Examles of them are')\n",
    "for i in outliers:\n",
    "    print('Word: {0} -- Freq: {1}'.format(i,word_dict[i]))"
   ]
  },
  {
   "cell_type": "code",
   "execution_count": 9,
   "metadata": {},
   "outputs": [
    {
     "data": {
      "image/png": "[encoded data removed]",
      "text/plain": [
       "<matplotlib.figure.Figure at 0x11b784518>"
      ]
     },
     "metadata": {},
     "output_type": "display_data"
    },
    {
     "name": "stdout",
     "output_type": "stream",
     "text": [
      "The plot should have been a horizontal line but as we can see \n",
      "it is not the case. This might be because the word vocabulary used for this is small \n"
     ]
    }
   ],
   "source": [
    "## Number of meaning for a word \n",
    "meanings = {'wondered':2, 'lifts':3,'full':8,'fame':2,'familiar':3,'sunk':5,'cell':6}\n",
    "mean_prod = []\n",
    "for i in meanings:\n",
    "    mean_prod.append(meanings[i]/(word_dict[i])**0.5)\n",
    "\n",
    "## Potting the product of # meaning * (1/root freq) \n",
    "plt.scatter(mean_prod,range(len(mean_prod)))\n",
    "plt.title(\"Zipf's Law for meaning\")\n",
    "plt.xlabel('Prod of # meaning and 1/(root freq)')\n",
    "plt.ylabel('Vocabulary')\n",
    "plt.show()\n",
    "  \n",
    "print('The plot should have been a horizontal line but as we can see \\nit is not the case. This might be because the word vocabulary used for this is small ')"
   ]
  },
  {
   "cell_type": "code",
   "execution_count": 10,
   "metadata": {},
   "outputs": [
    {
     "data": {
      "image/png": "[encoded data removed]",
      "text/plain": [
       "<matplotlib.figure.Figure at 0x11b842c50>"
      ]
     },
     "metadata": {},
     "output_type": "display_data"
    }
   ],
   "source": [
    "## Function created for Heaps' Law\n",
    "def func(x,k,b):\n",
    "    return k*(x**b)\n",
    "\n",
    "## Curve Fitting to get the values of K and beta\n",
    "popt, pcov = opt.curve_fit(func, token_size, vocabulary, bounds=(0.4,[100, 0.6]))\n",
    "plt.plot(token_size,vocabulary,label = 'vocab vs corpus')\n",
    "plt.plot(token_size, func(token_size, *popt), 'g--', label='fit')\n",
    "plt.title(\"Heaps' Law plot\")\n",
    "plt.xlabel('Words in collection')\n",
    "plt.ylabel('Words in Vocabulary')\n",
    "plt.legend()\n",
    "plt.show()"
   ]
  },
  {
   "cell_type": "code",
   "execution_count": 11,
   "metadata": {},
   "outputs": [
    {
     "name": "stdout",
     "output_type": "stream",
     "text": [
      "Heaps law for this corpus: 13.806*(N^0.565)\n"
     ]
    }
   ],
   "source": [
    "print ('Heaps law for this corpus:',end='')\n",
    "print (' {0:0.3f}*(N^{1:0.3f})'.format(popt[0],popt[1]))"
   ]
  }
 ],
 "metadata": {
  "kernelspec": {
   "display_name": "Python 3",
   "language": "python",
   "name": "python3"
  },
  "language_info": {
   "codemirror_mode": {
    "name": "ipython",
    "version": 3
   },
   "file_extension": ".py",
   "mimetype": "text/x-python",
   "name": "python",
   "nbconvert_exporter": "python",
   "pygments_lexer": "ipython3",
   "version": "3.5.4"
  }
 },
 "nbformat": 4,
 "nbformat_minor": 2
}
